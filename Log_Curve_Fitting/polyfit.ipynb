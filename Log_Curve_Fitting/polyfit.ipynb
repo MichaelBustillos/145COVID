{
 "cells": [
  {
   "cell_type": "code",
   "execution_count": 1,
   "id": "japanese-gregory",
   "metadata": {
    "_cell_guid": "b1076dfc-b9ad-4769-8c92-a6c4dae69d19",
    "_uuid": "8f2839f25d086af736a60e9eeb907d3b93b6e0e5",
    "execution": {
     "iopub.execute_input": "2021-06-06T01:16:04.524742Z",
     "iopub.status.busy": "2021-06-06T01:16:04.523792Z",
     "iopub.status.idle": "2021-06-06T01:16:04.532870Z",
     "shell.execute_reply": "2021-06-06T01:16:04.533737Z",
     "shell.execute_reply.started": "2021-06-03T18:48:39.733309Z"
    },
    "papermill": {
     "duration": 0.031121,
     "end_time": "2021-06-06T01:16:04.534293",
     "exception": false,
     "start_time": "2021-06-06T01:16:04.503172",
     "status": "completed"
    },
    "tags": []
   },
   "outputs": [
    {
     "name": "stdout",
     "output_type": "stream",
     "text": [
      "/kaggle/input/2021spring-cs145-ucla-covid19-prediction/train_vaccine.csv\n",
      "/kaggle/input/2021spring-cs145-ucla-covid19-prediction/submission.csv\n",
      "/kaggle/input/2021spring-cs145-ucla-covid19-prediction/test.csv\n",
      "/kaggle/input/2021spring-cs145-ucla-covid19-prediction/train_trendency.csv\n"
     ]
    }
   ],
   "source": [
    "# This Python 3 environment comes with many helpful analytics libraries installed\n",
    "# It is defined by the kaggle/python Docker image: https://github.com/kaggle/docker-python\n",
    "# For example, here's several helpful packages to load\n",
    "\n",
    "import numpy as np # linear algebra\n",
    "import pandas as pd # data processing, CSV file I/O (e.g. pd.read_csv)\n",
    "\n",
    "# Input data files are available in the read-only \"../input/\" directory\n",
    "# For example, running this (by clicking run or pressing Shift+Enter) will list all files under the input directory\n",
    "\n",
    "import os\n",
    "for dirname, _, filenames in os.walk('/kaggle/input'):\n",
    "    for filename in filenames:\n",
    "        print(os.path.join(dirname, filename))\n",
    "\n",
    "# You can write up to 20GB to the current directory (/kaggle/working/) that gets preserved as output when you create a version using \"Save & Run All\" \n",
    "# You can also write temporary files to /kaggle/temp/, but they won't be saved outside of the current session"
   ]
  },
  {
   "cell_type": "code",
   "execution_count": 2,
   "id": "sixth-circulation",
   "metadata": {
    "execution": {
     "iopub.execute_input": "2021-06-06T01:16:04.558671Z",
     "iopub.status.busy": "2021-06-06T01:16:04.557621Z",
     "iopub.status.idle": "2021-06-06T01:16:04.578867Z",
     "shell.execute_reply": "2021-06-06T01:16:04.578151Z",
     "shell.execute_reply.started": "2021-06-03T18:48:39.742412Z"
    },
    "papermill": {
     "duration": 0.035617,
     "end_time": "2021-06-06T01:16:04.579014",
     "exception": false,
     "start_time": "2021-06-06T01:16:04.543397",
     "status": "completed"
    },
    "tags": []
   },
   "outputs": [],
   "source": [
    "import csv\n",
    "\n",
    "x_axis = {}\n",
    "inf_y = {}\n",
    "death_y = {}\n",
    "\n",
    "with open(\"/kaggle/input/2021spring-cs145-ucla-covid19-prediction/train_trendency.csv\", \"r\") as csv_file:\n",
    "    reader = csv.reader(csv_file)\n",
    "    \n",
    "    first_row = True\n",
    "    for row in reader:\n",
    "        if first_row:\n",
    "            first_row = False\n",
    "            continue\n",
    "            \n",
    "        state = row[1]\n",
    "        x_axis[state] = []\n",
    "        inf_y[state] = []\n",
    "        death_y[state] = []\n",
    "        \n",
    "        if state == \"Wyoming\":\n",
    "            break"
   ]
  },
  {
   "cell_type": "code",
   "execution_count": 3,
   "id": "secret-reflection",
   "metadata": {
    "execution": {
     "iopub.execute_input": "2021-06-06T01:16:04.599278Z",
     "iopub.status.busy": "2021-06-06T01:16:04.598516Z",
     "iopub.status.idle": "2021-06-06T01:16:04.637388Z",
     "shell.execute_reply": "2021-06-06T01:16:04.637906Z",
     "shell.execute_reply.started": "2021-06-03T18:48:39.761793Z"
    },
    "papermill": {
     "duration": 0.052906,
     "end_time": "2021-06-06T01:16:04.638103",
     "exception": false,
     "start_time": "2021-06-06T01:16:04.585197",
     "status": "completed"
    },
    "tags": []
   },
   "outputs": [],
   "source": [
    "import csv\n",
    "import datetime\n",
    "\n",
    "with open(\"/kaggle/input/2021spring-cs145-ucla-covid19-prediction/train_trendency.csv\", \"r\") as csv_file:\n",
    "    reader = csv.reader(csv_file)\n",
    "\n",
    "    first_row = True\n",
    "    for row in reader:\n",
    "        if first_row:\n",
    "            first_row = False\n",
    "            continue\n",
    "       \n",
    "        state = row[1]\n",
    "        \n",
    "        date_string = row[2]\n",
    "        mdy = date_string.split(\"-\")\n",
    "        date = datetime.date(int(mdy[2]), int(mdy[0]), int(mdy[1]))\n",
    "        \n",
    "        inf = int(row[3])\n",
    "        deaths = int(row[4])\n",
    "        \n",
    "        x_axis[state].append(date)\n",
    "        inf_y[state].append(inf)\n",
    "        death_y[state].append(deaths)"
   ]
  },
  {
   "cell_type": "code",
   "execution_count": 4,
   "id": "freelance-windsor",
   "metadata": {
    "execution": {
     "iopub.execute_input": "2021-06-06T01:16:04.653241Z",
     "iopub.status.busy": "2021-06-06T01:16:04.652536Z",
     "iopub.status.idle": "2021-06-06T01:16:04.703906Z",
     "shell.execute_reply": "2021-06-06T01:16:04.703259Z",
     "shell.execute_reply.started": "2021-06-03T18:48:39.787505Z"
    },
    "papermill": {
     "duration": 0.059909,
     "end_time": "2021-06-06T01:16:04.704056",
     "exception": false,
     "start_time": "2021-06-06T01:16:04.644147",
     "status": "completed"
    },
    "tags": []
   },
   "outputs": [],
   "source": [
    "import matplotlib.dates as mdates\n",
    "\n",
    "coeff_inf = {}\n",
    "coeff_death = {}\n",
    "for state in x_axis:\n",
    "    coeff_inf[state] = []\n",
    "    coeff_death[state] = []\n",
    "\n",
    "for state in x_axis:\n",
    "    x = mdates.date2num(x_axis[state])\n",
    "    x = x - 18638\n",
    "    log_x = np.log(x)\n",
    "    c_inf = np.polyfit(log_x, inf_y[state], 1)\n",
    "    c_death = np.polyfit(log_x, death_y[state], 1)\n",
    "    \n",
    "    coeff_inf[state].append(c_inf[0])\n",
    "    coeff_inf[state].append(c_inf[1])\n",
    "    \n",
    "    coeff_death[state].append(c_death[0])\n",
    "    coeff_death[state].append(c_death[1])"
   ]
  },
  {
   "cell_type": "code",
   "execution_count": 5,
   "id": "horizontal-capitol",
   "metadata": {
    "execution": {
     "iopub.execute_input": "2021-06-06T01:16:04.737409Z",
     "iopub.status.busy": "2021-06-06T01:16:04.735153Z",
     "iopub.status.idle": "2021-06-06T01:16:04.746251Z",
     "shell.execute_reply": "2021-06-06T01:16:04.745589Z",
     "shell.execute_reply.started": "2021-06-03T18:48:39.817108Z"
    },
    "papermill": {
     "duration": 0.036254,
     "end_time": "2021-06-06T01:16:04.746389",
     "exception": false,
     "start_time": "2021-06-06T01:16:04.710135",
     "status": "completed"
    },
    "tags": []
   },
   "outputs": [
    {
     "data": {
      "text/plain": [
       "61457"
      ]
     },
     "execution_count": 5,
     "metadata": {},
     "output_type": "execute_result"
    }
   ],
   "source": [
    "start = 80\n",
    "out = \"ID,Confirmed,Deaths\\n\"\n",
    "\n",
    "id = 0\n",
    "for x in range(start, start+30):\n",
    "    for state in x_axis:\n",
    "        predicted_inf = coeff_inf[state][0]*np.log(x) + coeff_inf[state][1]\n",
    "        predicted_death = coeff_death[state][0]*np.log(x) + coeff_death[state][1]\n",
    "        \n",
    "        out += str(id) + \",\" + str(predicted_inf) + \",\" + str(predicted_death) + \"\\n\"\n",
    "        \n",
    "        id = id + 1\n",
    "            \n",
    "f = open(\"/kaggle/working/submission.csv\", \"w\")\n",
    "f.write(out)"
   ]
  }
 ],
 "metadata": {
  "kernelspec": {
   "display_name": "Python 3",
   "language": "python",
   "name": "python3"
  },
  "language_info": {
   "codemirror_mode": {
    "name": "ipython",
    "version": 3
   },
   "file_extension": ".py",
   "mimetype": "text/x-python",
   "name": "python",
   "nbconvert_exporter": "python",
   "pygments_lexer": "ipython3",
   "version": "3.7.10"
  },
  "papermill": {
   "default_parameters": {},
   "duration": 9.666423,
   "end_time": "2021-06-06T01:16:05.463468",
   "environment_variables": {},
   "exception": null,
   "input_path": "__notebook__.ipynb",
   "output_path": "__notebook__.ipynb",
   "parameters": {},
   "start_time": "2021-06-06T01:15:55.797045",
   "version": "2.3.3"
  }
 },
 "nbformat": 4,
 "nbformat_minor": 5
}
