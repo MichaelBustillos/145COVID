{
 "cells": [
  {
   "cell_type": "code",
   "execution_count": 1,
   "id": "nonprofit-bulgaria",
   "metadata": {
    "_cell_guid": "b1076dfc-b9ad-4769-8c92-a6c4dae69d19",
    "_uuid": "8f2839f25d086af736a60e9eeb907d3b93b6e0e5",
    "execution": {
     "iopub.execute_input": "2021-06-03T23:49:26.095582Z",
     "iopub.status.busy": "2021-06-03T23:49:26.094437Z",
     "iopub.status.idle": "2021-06-03T23:49:27.055974Z",
     "shell.execute_reply": "2021-06-03T23:49:27.055080Z",
     "shell.execute_reply.started": "2021-06-03T23:40:50.610227Z"
    },
    "papermill": {
     "duration": 0.97977,
     "end_time": "2021-06-03T23:49:27.056158",
     "exception": false,
     "start_time": "2021-06-03T23:49:26.076388",
     "status": "completed"
    },
    "tags": []
   },
   "outputs": [
    {
     "name": "stdout",
     "output_type": "stream",
     "text": [
      "/kaggle/input/2021spring-cs145-ucla-covid19-prediction/train_vaccine.csv\n",
      "/kaggle/input/2021spring-cs145-ucla-covid19-prediction/submission.csv\n",
      "/kaggle/input/2021spring-cs145-ucla-covid19-prediction/test.csv\n",
      "/kaggle/input/2021spring-cs145-ucla-covid19-prediction/train_trendency.csv\n"
     ]
    }
   ],
   "source": [
    "# This Python 3 environment comes with many helpful analytics libraries installed\n",
    "# It is defined by the kaggle/python Docker image: https://github.com/kaggle/docker-python\n",
    "# For example, here's several helpful packages to load\n",
    "\n",
    "import numpy as np # linear algebra\n",
    "import pandas as pd # data processing, CSV file I/O (e.g. pd.read_csv)\n",
    "import matplotlib as mpl\n",
    "from sklearn.metrics import mean_squared_error\n",
    "from pandas.plotting import lag_plot\n",
    "\n",
    "# Input data files are available in the read-only \"../input/\" directory\n",
    "# For example, running this (by clicking run or pressing Shift+Enter) will list all files under the input directory\n",
    "\n",
    "import os\n",
    "for dirname, _, filenames in os.walk('/kaggle/input'):\n",
    "    for filename in filenames:\n",
    "        print(os.path.join(dirname, filename))\n",
    "\n",
    "ds = pd.read_csv('/kaggle/input/2021spring-cs145-ucla-covid19-prediction/train_trendency.csv')\n",
    "#ds.head()\n",
    "\n",
    "sub = pd.read_csv('/kaggle/input/2021spring-cs145-ucla-covid19-prediction/submission.csv')\n",
    "# You can write up to 20GB to the current directory (/kaggle/working/) that gets preserved as output when you create a version using \"Save & Run All\" \n",
    "# You can also write temporary files to /kaggle/temp/, but they won't be saved outside of the current session"
   ]
  },
  {
   "cell_type": "code",
   "execution_count": 2,
   "id": "inclusive-moscow",
   "metadata": {
    "execution": {
     "iopub.execute_input": "2021-06-03T23:49:27.100076Z",
     "iopub.status.busy": "2021-06-03T23:49:27.093327Z",
     "iopub.status.idle": "2021-06-03T23:49:27.114018Z",
     "shell.execute_reply": "2021-06-03T23:49:27.114520Z",
     "shell.execute_reply.started": "2021-06-03T23:40:50.642054Z"
    },
    "papermill": {
     "duration": 0.04492,
     "end_time": "2021-06-03T23:49:27.114688",
     "exception": false,
     "start_time": "2021-06-03T23:49:27.069768",
     "status": "completed"
    },
    "tags": []
   },
   "outputs": [
    {
     "data": {
      "text/html": [
       "<div>\n",
       "<style scoped>\n",
       "    .dataframe tbody tr th:only-of-type {\n",
       "        vertical-align: middle;\n",
       "    }\n",
       "\n",
       "    .dataframe tbody tr th {\n",
       "        vertical-align: top;\n",
       "    }\n",
       "\n",
       "    .dataframe thead th {\n",
       "        text-align: right;\n",
       "    }\n",
       "</style>\n",
       "<table border=\"1\" class=\"dataframe\">\n",
       "  <thead>\n",
       "    <tr style=\"text-align: right;\">\n",
       "      <th></th>\n",
       "      <th>Province_State</th>\n",
       "      <th>Date</th>\n",
       "      <th>Confirmed</th>\n",
       "      <th>Deaths</th>\n",
       "    </tr>\n",
       "  </thead>\n",
       "  <tbody>\n",
       "    <tr>\n",
       "      <th>3945</th>\n",
       "      <td>Virginia</td>\n",
       "      <td>03-31-2021</td>\n",
       "      <td>618976</td>\n",
       "      <td>10252</td>\n",
       "    </tr>\n",
       "    <tr>\n",
       "      <th>3946</th>\n",
       "      <td>Washington</td>\n",
       "      <td>03-31-2021</td>\n",
       "      <td>364486</td>\n",
       "      <td>5247</td>\n",
       "    </tr>\n",
       "    <tr>\n",
       "      <th>3947</th>\n",
       "      <td>West Virginia</td>\n",
       "      <td>03-31-2021</td>\n",
       "      <td>141738</td>\n",
       "      <td>2676</td>\n",
       "    </tr>\n",
       "    <tr>\n",
       "      <th>3948</th>\n",
       "      <td>Wisconsin</td>\n",
       "      <td>03-31-2021</td>\n",
       "      <td>636041</td>\n",
       "      <td>7315</td>\n",
       "    </tr>\n",
       "    <tr>\n",
       "      <th>3949</th>\n",
       "      <td>Wyoming</td>\n",
       "      <td>03-31-2021</td>\n",
       "      <td>56310</td>\n",
       "      <td>700</td>\n",
       "    </tr>\n",
       "  </tbody>\n",
       "</table>\n",
       "</div>"
      ],
      "text/plain": [
       "     Province_State        Date  Confirmed  Deaths\n",
       "3945       Virginia  03-31-2021     618976   10252\n",
       "3946     Washington  03-31-2021     364486    5247\n",
       "3947  West Virginia  03-31-2021     141738    2676\n",
       "3948      Wisconsin  03-31-2021     636041    7315\n",
       "3949        Wyoming  03-31-2021      56310     700"
      ]
     },
     "execution_count": 2,
     "metadata": {},
     "output_type": "execute_result"
    }
   ],
   "source": [
    "df = ds[['Province_State','Date','Confirmed','Deaths']]\n",
    "df.tail()"
   ]
  },
  {
   "cell_type": "code",
   "execution_count": 3,
   "id": "intimate-peace",
   "metadata": {
    "execution": {
     "iopub.execute_input": "2021-06-03T23:49:27.214943Z",
     "iopub.status.busy": "2021-06-03T23:49:27.205896Z",
     "iopub.status.idle": "2021-06-03T23:49:27.219253Z",
     "shell.execute_reply": "2021-06-03T23:49:27.218724Z",
     "shell.execute_reply.started": "2021-06-03T23:40:50.656718Z"
    },
    "papermill": {
     "duration": 0.090986,
     "end_time": "2021-06-03T23:49:27.219411",
     "exception": false,
     "start_time": "2021-06-03T23:49:27.128425",
     "status": "completed"
    },
    "tags": []
   },
   "outputs": [
    {
     "data": {
      "text/html": [
       "<div>\n",
       "<style scoped>\n",
       "    .dataframe tbody tr th:only-of-type {\n",
       "        vertical-align: middle;\n",
       "    }\n",
       "\n",
       "    .dataframe tbody tr th {\n",
       "        vertical-align: top;\n",
       "    }\n",
       "\n",
       "    .dataframe thead th {\n",
       "        text-align: right;\n",
       "    }\n",
       "</style>\n",
       "<table border=\"1\" class=\"dataframe\">\n",
       "  <thead>\n",
       "    <tr style=\"text-align: right;\">\n",
       "      <th></th>\n",
       "      <th>Province_State</th>\n",
       "      <th>Date</th>\n",
       "      <th>Confirmed</th>\n",
       "      <th>Deaths</th>\n",
       "    </tr>\n",
       "  </thead>\n",
       "  <tbody>\n",
       "    <tr>\n",
       "      <th>49</th>\n",
       "      <td>Wyoming</td>\n",
       "      <td>01-12-2021</td>\n",
       "      <td>48072</td>\n",
       "      <td>522</td>\n",
       "    </tr>\n",
       "    <tr>\n",
       "      <th>99</th>\n",
       "      <td>Wyoming</td>\n",
       "      <td>01-13-2021</td>\n",
       "      <td>48289</td>\n",
       "      <td>522</td>\n",
       "    </tr>\n",
       "    <tr>\n",
       "      <th>149</th>\n",
       "      <td>Wyoming</td>\n",
       "      <td>01-14-2021</td>\n",
       "      <td>48701</td>\n",
       "      <td>522</td>\n",
       "    </tr>\n",
       "    <tr>\n",
       "      <th>199</th>\n",
       "      <td>Wyoming</td>\n",
       "      <td>01-15-2021</td>\n",
       "      <td>48909</td>\n",
       "      <td>522</td>\n",
       "    </tr>\n",
       "    <tr>\n",
       "      <th>249</th>\n",
       "      <td>Wyoming</td>\n",
       "      <td>01-16-2021</td>\n",
       "      <td>49068</td>\n",
       "      <td>522</td>\n",
       "    </tr>\n",
       "  </tbody>\n",
       "</table>\n",
       "</div>"
      ],
      "text/plain": [
       "    Province_State        Date  Confirmed  Deaths\n",
       "49         Wyoming  01-12-2021      48072     522\n",
       "99         Wyoming  01-13-2021      48289     522\n",
       "149        Wyoming  01-14-2021      48701     522\n",
       "199        Wyoming  01-15-2021      48909     522\n",
       "249        Wyoming  01-16-2021      49068     522"
      ]
     },
     "execution_count": 3,
     "metadata": {},
     "output_type": "execute_result"
    }
   ],
   "source": [
    "#split data by state into seperate dataframes\n",
    "states = []\n",
    "for i in range(0,50):\n",
    "    state_name = df.iloc[i].Province_State\n",
    "    states.append(df[df.Province_State == state_name])\n",
    "states[49].head()"
   ]
  },
  {
   "cell_type": "code",
   "execution_count": 4,
   "id": "metallic-suffering",
   "metadata": {
    "execution": {
     "iopub.execute_input": "2021-06-03T23:49:27.254327Z",
     "iopub.status.busy": "2021-06-03T23:49:27.253549Z",
     "iopub.status.idle": "2021-06-03T23:49:27.475265Z",
     "shell.execute_reply": "2021-06-03T23:49:27.474726Z",
     "shell.execute_reply.started": "2021-06-03T23:40:50.729366Z"
    },
    "papermill": {
     "duration": 0.24173,
     "end_time": "2021-06-03T23:49:27.475416",
     "exception": false,
     "start_time": "2021-06-03T23:49:27.233686",
     "status": "completed"
    },
    "tags": []
   },
   "outputs": [
    {
     "data": {
      "text/plain": [
       "<AxesSubplot:xlabel='y(t)', ylabel='y(t + 1)'>"
      ]
     },
     "execution_count": 4,
     "metadata": {},
     "output_type": "execute_result"
    },
    {
     "data": {
      "image/png": "[encoded data removed]",
      "text/plain": [
       "<Figure size 432x288 with 1 Axes>"
      ]
     },
     "metadata": {
      "needs_background": "light"
     },
     "output_type": "display_data"
    }
   ],
   "source": [
    "con = states[3][['Date','Confirmed','Deaths']]\n",
    "#type(con.astype('float32'))\n",
    "#con.plot()\n",
    "lag_plot(con['Confirmed'])"
   ]
  },
  {
   "cell_type": "code",
   "execution_count": 5,
   "id": "centered-financing",
   "metadata": {
    "execution": {
     "iopub.execute_input": "2021-06-03T23:49:27.510806Z",
     "iopub.status.busy": "2021-06-03T23:49:27.509894Z",
     "iopub.status.idle": "2021-06-03T23:49:27.731459Z",
     "shell.execute_reply": "2021-06-03T23:49:27.730853Z",
     "shell.execute_reply.started": "2021-06-03T23:40:50.899034Z"
    },
    "papermill": {
     "duration": 0.241304,
     "end_time": "2021-06-03T23:49:27.731603",
     "exception": false,
     "start_time": "2021-06-03T23:49:27.490299",
     "status": "completed"
    },
    "tags": []
   },
   "outputs": [],
   "source": [
    "from statsmodels.graphics.tsaplots import plot_pacf\n",
    "from statsmodels.graphics.tsaplots import plot_acf\n",
    "from statsmodels.tsa.stattools import pacf\n",
    "from statsmodels.regression.linear_model import yule_walker\n",
    "from statsmodels.tsa.stattools import adfuller"
   ]
  },
  {
   "cell_type": "markdown",
   "id": "suited-space",
   "metadata": {
    "papermill": {
     "duration": 0.015107,
     "end_time": "2021-06-03T23:49:27.761955",
     "exception": false,
     "start_time": "2021-06-03T23:49:27.746848",
     "status": "completed"
    },
    "tags": []
   },
   "source": [
    "Learned about AR concepts and some tools to apply them here:\n",
    "https://towardsdatascience.com/time-series-forecasting-with-autoregressive-processes-ba629717401"
   ]
  },
  {
   "cell_type": "code",
   "execution_count": 6,
   "id": "congressional-convention",
   "metadata": {
    "execution": {
     "iopub.execute_input": "2021-06-03T23:49:27.797666Z",
     "iopub.status.busy": "2021-06-03T23:49:27.796996Z",
     "iopub.status.idle": "2021-06-03T23:49:27.816358Z",
     "shell.execute_reply": "2021-06-03T23:49:27.816867Z",
     "shell.execute_reply.started": "2021-06-03T23:40:50.90577Z"
    },
    "papermill": {
     "duration": 0.039911,
     "end_time": "2021-06-03T23:49:27.817024",
     "exception": false,
     "start_time": "2021-06-03T23:49:27.777113",
     "status": "completed"
    },
    "tags": []
   },
   "outputs": [
    {
     "name": "stdout",
     "output_type": "stream",
     "text": [
      "-11.17775020600579\n",
      "2.545692368195445e-20\n"
     ]
    },
    {
     "data": {
      "text/plain": [
       "[7]"
      ]
     },
     "execution_count": 6,
     "metadata": {},
     "output_type": "execute_result"
    }
   ],
   "source": [
    "#Confirm that data is stationary\n",
    "adfuller_res = adfuller(con['Confirmed'])\n",
    "print(adfuller_res[0])\n",
    "print(adfuller_res[1])\n",
    "[7,]"
   ]
  },
  {
   "cell_type": "code",
   "execution_count": 7,
   "id": "bronze-costs",
   "metadata": {
    "execution": {
     "iopub.execute_input": "2021-06-03T23:49:27.854814Z",
     "iopub.status.busy": "2021-06-03T23:49:27.854126Z",
     "iopub.status.idle": "2021-06-03T23:49:28.364332Z",
     "shell.execute_reply": "2021-06-03T23:49:28.363783Z",
     "shell.execute_reply.started": "2021-06-03T23:40:50.938686Z"
    },
    "papermill": {
     "duration": 0.531885,
     "end_time": "2021-06-03T23:49:28.364473",
     "exception": false,
     "start_time": "2021-06-03T23:49:27.832588",
     "status": "completed"
    },
    "tags": []
   },
   "outputs": [
    {
     "data": {
      "image/png": "[encoded data removed]",
      "text/plain": [
       "<Figure size 432x288 with 1 Axes>"
      ]
     },
     "execution_count": 7,
     "metadata": {},
     "output_type": "execute_result"
    },
    {
     "data": {
      "image/png": "[encoded data removed]",
      "text/plain": [
       "<Figure size 432x288 with 1 Axes>"
      ]
     },
     "metadata": {
      "needs_background": "light"
     },
     "output_type": "display_data"
    },
    {
     "data": {
      "image/png": "[encoded data removed]",
      "text/plain": [
       "<Figure size 432x288 with 1 Axes>"
      ]
     },
     "metadata": {
      "needs_background": "light"
     },
     "output_type": "display_data"
    }
   ],
   "source": [
    "#use plots to determine best lag\n",
    "state_index = 3\n",
    "plot_pacf(states[state_index]['Deaths'])\n",
    "plot_acf(states[state_index]['Deaths'])"
   ]
  },
  {
   "cell_type": "code",
   "execution_count": 8,
   "id": "lonely-strap",
   "metadata": {
    "execution": {
     "iopub.execute_input": "2021-06-03T23:49:28.403937Z",
     "iopub.status.busy": "2021-06-03T23:49:28.403317Z",
     "iopub.status.idle": "2021-06-03T23:49:28.408273Z",
     "shell.execute_reply": "2021-06-03T23:49:28.408844Z",
     "shell.execute_reply.started": "2021-06-03T23:40:51.434487Z"
    },
    "papermill": {
     "duration": 0.0262,
     "end_time": "2021-06-03T23:49:28.409006",
     "exception": false,
     "start_time": "2021-06-03T23:49:28.382806",
     "status": "completed"
    },
    "tags": []
   },
   "outputs": [],
   "source": [
    "#use yule_walker equation to determine rho and sigma for each state\n",
    "def rho_sigma_list(data, col_name, lag):\n",
    "    rho_list = []\n",
    "    sigma_list = []\n",
    "    for i in range(0, 50):\n",
    "        curr_rho, curr_sigma = yule_walker(data[i][col_name], lag)\n",
    "        rho_list.append(curr_rho)\n",
    "        sigma_list.append(curr_sigma)\n",
    "    \n",
    "    return [rho_list, sigma_list]"
   ]
  },
  {
   "cell_type": "code",
   "execution_count": 9,
   "id": "subtle-place",
   "metadata": {
    "execution": {
     "iopub.execute_input": "2021-06-03T23:49:28.447722Z",
     "iopub.status.busy": "2021-06-03T23:49:28.447120Z",
     "iopub.status.idle": "2021-06-03T23:49:28.472790Z",
     "shell.execute_reply": "2021-06-03T23:49:28.473360Z",
     "shell.execute_reply.started": "2021-06-03T23:40:51.442499Z"
    },
    "papermill": {
     "duration": 0.046583,
     "end_time": "2021-06-03T23:49:28.473537",
     "exception": false,
     "start_time": "2021-06-03T23:49:28.426954",
     "status": "completed"
    },
    "tags": []
   },
   "outputs": [],
   "source": [
    "confirmed_rho_sigma = rho_sigma_list(states, 'Confirmed', 3)\n",
    "death_rho_sigma = rho_sigma_list(states, 'Deaths', 3)\n",
    "\n",
    "confirmed_rho_list = confirmed_rho_sigma[0]\n",
    "confirmed_sigma_list = confirmed_rho_sigma[1]\n",
    "\n",
    "death_rho_list = death_rho_sigma[0]\n",
    "death_sigma_list = death_rho_sigma[1]"
   ]
  },
  {
   "cell_type": "code",
   "execution_count": 10,
   "id": "hawaiian-brunswick",
   "metadata": {
    "execution": {
     "iopub.execute_input": "2021-06-03T23:49:28.514913Z",
     "iopub.status.busy": "2021-06-03T23:49:28.511749Z",
     "iopub.status.idle": "2021-06-03T23:49:28.517906Z",
     "shell.execute_reply": "2021-06-03T23:49:28.517385Z",
     "shell.execute_reply.started": "2021-06-03T23:40:51.477616Z"
    },
    "papermill": {
     "duration": 0.026483,
     "end_time": "2021-06-03T23:49:28.518042",
     "exception": false,
     "start_time": "2021-06-03T23:49:28.491559",
     "status": "completed"
    },
    "tags": []
   },
   "outputs": [],
   "source": [
    "#use rho and sigma to generate prediction based on given points\n",
    "def get_AR(rho, sigma, points):\n",
    "    \n",
    "    r_len = len(rho)\n",
    "    if r_len != len(points):\n",
    "        print('ERROR: incorrect number of points')\n",
    "        return -1\n",
    "    \n",
    "    ans = 0\n",
    "    for i in range(0, r_len):\n",
    "        ans = ans + points[i] * rho[i]\n",
    "    \n",
    "    return ans + sigma"
   ]
  },
  {
   "cell_type": "code",
   "execution_count": 11,
   "id": "statistical-consideration",
   "metadata": {
    "execution": {
     "iopub.execute_input": "2021-06-03T23:49:28.561166Z",
     "iopub.status.busy": "2021-06-03T23:49:28.560468Z",
     "iopub.status.idle": "2021-06-03T23:49:28.563408Z",
     "shell.execute_reply": "2021-06-03T23:49:28.562867Z",
     "shell.execute_reply.started": "2021-06-03T23:40:51.485622Z"
    },
    "papermill": {
     "duration": 0.027492,
     "end_time": "2021-06-03T23:49:28.563557",
     "exception": false,
     "start_time": "2021-06-03T23:49:28.536065",
     "status": "completed"
    },
    "tags": []
   },
   "outputs": [],
   "source": [
    "#generate dataframe with predictions based on rho, sigma, and training data\n",
    "def df_AR(rho, sigma, prev_data, ans_len):\n",
    "\n",
    "    ans = []\n",
    "    #init prev points with last len(rho) points in df\n",
    "    prev_data = prev_data.tolist()\n",
    "    prev_points = prev_data[(len(prev_data)-len(rho)):len(prev_data)]\n",
    "    prev_points.reverse()\n",
    "    \n",
    "    for i in range(0,ans_len):\n",
    "        #get current AR val for current index\n",
    "        curr_AR_val = get_AR(rho, sigma, prev_points)\n",
    "        ans.append(curr_AR_val)\n",
    "        #shift prev_data and update 0th index\n",
    "        for j in range(1,len(rho)):\n",
    "            prev_points[j] = prev_points[j-1]\n",
    "        prev_points[0] = curr_AR_val\n",
    "    \n",
    "    return ans"
   ]
  },
  {
   "cell_type": "code",
   "execution_count": 12,
   "id": "impressive-vacuum",
   "metadata": {
    "execution": {
     "iopub.execute_input": "2021-06-03T23:49:28.636214Z",
     "iopub.status.busy": "2021-06-03T23:49:28.623019Z",
     "iopub.status.idle": "2021-06-03T23:49:28.640890Z",
     "shell.execute_reply": "2021-06-03T23:49:28.640404Z",
     "shell.execute_reply.started": "2021-06-03T23:40:51.498491Z"
    },
    "papermill": {
     "duration": 0.059463,
     "end_time": "2021-06-03T23:49:28.641039",
     "exception": false,
     "start_time": "2021-06-03T23:49:28.581576",
     "status": "completed"
    },
    "tags": []
   },
   "outputs": [
    {
     "data": {
      "text/plain": [
       "25    4826.113740\n",
       "26    4771.116022\n",
       "27    4718.176511\n",
       "28    4667.218182\n",
       "29    4618.166890\n",
       "dtype: float64"
      ]
     },
     "execution_count": 12,
     "metadata": {},
     "output_type": "execute_result"
    }
   ],
   "source": [
    "predicted_confirmed = []\n",
    "predicted_deaths = []\n",
    "#generate prediction dataframes for each state\n",
    "for i in range(0, 50):\n",
    "    \n",
    "    rho = confirmed_rho_list[i]\n",
    "    sigma = confirmed_sigma_list[i]\n",
    "    predicted_confirmed.append(pd.Series(df_AR(rho, sigma, states[i]['Confirmed'], 30)))\n",
    "    \n",
    "    rho = death_rho_list[i]\n",
    "    sigma = death_sigma_list[i]\n",
    "    predicted_deaths.append(pd.Series((df_AR(rho, sigma, states[i]['Deaths'], 30))))\n",
    "    \n",
    "predicted_deaths[48].tail()"
   ]
  },
  {
   "cell_type": "code",
   "execution_count": 13,
   "id": "collectible-gathering",
   "metadata": {
    "execution": {
     "iopub.execute_input": "2021-06-03T23:49:28.696392Z",
     "iopub.status.busy": "2021-06-03T23:49:28.685933Z",
     "iopub.status.idle": "2021-06-03T23:49:29.105449Z",
     "shell.execute_reply": "2021-06-03T23:49:29.104912Z",
     "shell.execute_reply.started": "2021-06-03T23:40:51.540509Z"
    },
    "papermill": {
     "duration": 0.445783,
     "end_time": "2021-06-03T23:49:29.105592",
     "exception": false,
     "start_time": "2021-06-03T23:49:28.659809",
     "status": "completed"
    },
    "tags": []
   },
   "outputs": [],
   "source": [
    "#combine state dataframes into submission format\n",
    "state_index = 0\n",
    "day_index = -1\n",
    "\n",
    "for i in range(0,1500):\n",
    "    if i%50 == 0:\n",
    "        day_index += 1\n",
    "        \n",
    "    sub.iloc[i].Confirmed = predicted_confirmed[i%50][day_index]\n",
    "    sub.iloc[i].Deaths = predicted_deaths[i%50][day_index]"
   ]
  },
  {
   "cell_type": "code",
   "execution_count": 14,
   "id": "convinced-earthquake",
   "metadata": {
    "execution": {
     "iopub.execute_input": "2021-06-03T23:49:29.147517Z",
     "iopub.status.busy": "2021-06-03T23:49:29.146469Z",
     "iopub.status.idle": "2021-06-03T23:49:29.160192Z",
     "shell.execute_reply": "2021-06-03T23:49:29.160864Z",
     "shell.execute_reply.started": "2021-06-03T23:40:51.951124Z"
    },
    "papermill": {
     "duration": 0.037108,
     "end_time": "2021-06-03T23:49:29.161102",
     "exception": false,
     "start_time": "2021-06-03T23:49:29.123994",
     "status": "completed"
    },
    "tags": []
   },
   "outputs": [
    {
     "name": "stdout",
     "output_type": "stream",
     "text": [
      "        ID  Confirmed  Deaths\n",
      "0        0     505224   10630\n",
      "1        1      61794     307\n",
      "2        2     820844   16941\n",
      "3        3     323639    5518\n",
      "4        4    3562902   59589\n",
      "...    ...        ...     ...\n",
      "1495  1495     476509   13256\n",
      "1496  1496     240406    4566\n",
      "1497  1497      87841    2265\n",
      "1498  1498     301370    4618\n",
      "1499  1499      27049     522\n",
      "\n",
      "[1500 rows x 3 columns]\n"
     ]
    }
   ],
   "source": [
    "#write to submission file\n",
    "sub.to_csv(\"/kaggle/working/submission_lag_3.csv\",index=False)\n",
    "print(sub)"
   ]
  }
 ],
 "metadata": {
  "kernelspec": {
   "display_name": "Python 3",
   "language": "python",
   "name": "python3"
  },
  "language_info": {
   "codemirror_mode": {
    "name": "ipython",
    "version": 3
   },
   "file_extension": ".py",
   "mimetype": "text/x-python",
   "name": "python",
   "nbconvert_exporter": "python",
   "pygments_lexer": "ipython3",
   "version": "3.7.10"
  },
  "papermill": {
   "default_parameters": {},
   "duration": 12.815697,
   "end_time": "2021-06-03T23:49:30.815423",
   "environment_variables": {},
   "exception": null,
   "input_path": "__notebook__.ipynb",
   "output_path": "__notebook__.ipynb",
   "parameters": {},
   "start_time": "2021-06-03T23:49:17.999726",
   "version": "2.3.3"
  }
 },
 "nbformat": 4,
 "nbformat_minor": 5
}
