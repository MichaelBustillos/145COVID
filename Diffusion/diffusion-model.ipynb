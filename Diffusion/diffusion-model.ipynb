{
 "cells": [
  {
   "cell_type": "code",
   "execution_count": 1,
   "id": "assigned-netherlands",
   "metadata": {
    "_cell_guid": "b1076dfc-b9ad-4769-8c92-a6c4dae69d19",
    "_uuid": "8f2839f25d086af736a60e9eeb907d3b93b6e0e5",
    "execution": {
     "iopub.execute_input": "2021-06-02T22:43:46.788555Z",
     "iopub.status.busy": "2021-06-02T22:43:46.787921Z",
     "iopub.status.idle": "2021-06-02T22:43:46.794817Z",
     "shell.execute_reply": "2021-06-02T22:43:46.793866Z",
     "shell.execute_reply.started": "2021-06-02T20:18:27.238447Z"
    },
    "papermill": {
     "duration": 0.023425,
     "end_time": "2021-06-02T22:43:46.795055",
     "exception": false,
     "start_time": "2021-06-02T22:43:46.771630",
     "status": "completed"
    },
    "tags": []
   },
   "outputs": [
    {
     "name": "stdout",
     "output_type": "stream",
     "text": [
      "/kaggle/input/2021spring-cs145-ucla-covid19-prediction/train_vaccine.csv\n",
      "/kaggle/input/2021spring-cs145-ucla-covid19-prediction/submission.csv\n",
      "/kaggle/input/2021spring-cs145-ucla-covid19-prediction/test.csv\n",
      "/kaggle/input/2021spring-cs145-ucla-covid19-prediction/train_trendency.csv\n"
     ]
    }
   ],
   "source": [
    "# This Python 3 environment comes with many helpful analytics libraries installed\n",
    "# It is defined by the kaggle/python Docker image: https://github.com/kaggle/docker-python\n",
    "# For example, here's several helpful packages to load\n",
    "\n",
    "import numpy as np # linear algebra\n",
    "import pandas as pd # data processing, CSV file I/O (e.g. pd.read_csv)\n",
    "\n",
    "# Input data files are available in the read-only \"../input/\" directory\n",
    "# For example, running this (by clicking run or pressing Shift+Enter) will list all files under the input directory\n",
    "\n",
    "import os\n",
    "for dirname, _, filenames in os.walk('/kaggle/input'):\n",
    "    for filename in filenames:\n",
    "        print(os.path.join(dirname, filename))\n",
    "\n",
    "# You can write up to 20GB to the current directory (/kaggle/working/) that gets preserved as output when you create a version using \"Save & Run All\" \n",
    "# You can also write temporary files to /kaggle/temp/, but they won't be saved outside of the current session"
   ]
  },
  {
   "cell_type": "markdown",
   "id": "manufactured-franchise",
   "metadata": {
    "papermill": {
     "duration": 0.009732,
     "end_time": "2021-06-02T22:43:46.814034",
     "exception": false,
     "start_time": "2021-06-02T22:43:46.804302",
     "status": "completed"
    },
    "tags": []
   },
   "source": [
    "Citation: parts of this code was inspired by SciPython's page about the SIR model\n",
    "\n",
    "https://scipython.com/book/chapter-8-scipy/additional-examples/the-sir-epidemic-model/"
   ]
  },
  {
   "cell_type": "code",
   "execution_count": 2,
   "id": "nominated-party",
   "metadata": {
    "execution": {
     "iopub.execute_input": "2021-06-02T22:43:46.837142Z",
     "iopub.status.busy": "2021-06-02T22:43:46.836192Z",
     "iopub.status.idle": "2021-06-02T22:43:46.840099Z",
     "shell.execute_reply": "2021-06-02T22:43:46.839469Z",
     "shell.execute_reply.started": "2021-06-02T22:02:33.320838Z"
    },
    "papermill": {
     "duration": 0.017888,
     "end_time": "2021-06-02T22:43:46.840257",
     "exception": false,
     "start_time": "2021-06-02T22:43:46.822369",
     "status": "completed"
    },
    "tags": []
   },
   "outputs": [],
   "source": [
    "# https://scipython.com/book/chapter-8-scipy/additional-examples/the-sir-epidemic-model/\n",
    "# The SIR model differential equations.\n",
    "def deriv(y, t, N, beta, gamma):\n",
    "    S, I, R = y\n",
    "    dSdt = -beta * S * I / N\n",
    "    dIdt = beta * S * I / N - gamma * I\n",
    "    dRdt = gamma * I\n",
    "    return dSdt, dIdt, dRdt"
   ]
  },
  {
   "cell_type": "code",
   "execution_count": 3,
   "id": "unauthorized-adams",
   "metadata": {
    "execution": {
     "iopub.execute_input": "2021-06-02T22:43:46.873030Z",
     "iopub.status.busy": "2021-06-02T22:43:46.872009Z",
     "iopub.status.idle": "2021-06-02T22:43:46.879360Z",
     "shell.execute_reply": "2021-06-02T22:43:46.880021Z",
     "shell.execute_reply.started": "2021-06-02T21:34:52.430291Z"
    },
    "papermill": {
     "duration": 0.031657,
     "end_time": "2021-06-02T22:43:46.880293",
     "exception": false,
     "start_time": "2021-06-02T22:43:46.848636",
     "status": "completed"
    },
    "tags": []
   },
   "outputs": [],
   "source": [
    "# get total population of each state\n",
    "# data taken from wikipedia\n",
    "pop = {}\n",
    "pop[\"California\"]=39512223 \n",
    "pop[\"Texas\"]=28995881 \n",
    "pop[\"Florida\"]=21477737\n",
    "pop[\"New York\"]=19453561 \n",
    "pop[\"Pennsylvania\"]=12801989 \n",
    "pop[\"Illinois\"]=12671821 \n",
    "pop[\"Ohio\"]=11689100 \n",
    "pop[\"Georgia\"]=10617423 \n",
    "pop[\"North Carolina\"]=10488084\n",
    "pop[\"Michigan\"]=9986857 \n",
    "pop[\"New Jersey\"]=8882190 \n",
    "pop[\"Virginia\"]=8535519 \n",
    "pop[\"Washington\"]=7614893 \n",
    "pop[\"Arizona\"]=7278717 \n",
    "pop[\"Massachusetts\"]=6949503 \n",
    "pop[\"Tennessee\"]=6833174 \n",
    "pop[\"Indiana\"]=6732219 \n",
    "pop[\"Missouri\"]=6137428 \n",
    "pop[\"Maryland\"]=6045680 \n",
    "pop[\"Wisconsin\"]=5822434 \n",
    "pop[\"Colorado\"]=5758736 \n",
    "pop[\"Minnesota\"]=5639632 \n",
    "pop[\"South Carolina\"]=5148714\n",
    "pop[\"Alabama\"]=4903185 \n",
    "pop[\"Louisiana\"]=4648794 \n",
    "pop[\"Kentucky\"]=4467673 \n",
    "pop[\"Oregon\"]=4217737\n",
    "pop[\"Oklahoma\"]=3956971 \n",
    "pop[\"Connecticut\"]=3565287\n",
    "pop[\"Utah\"]=3205958 \n",
    "pop[\"Iowa\"]=3155070 \n",
    "pop[\"Nevada\"]=3080156 \n",
    "pop[\"Arkansas\"]=3017825 \n",
    "pop[\"Mississippi\"]=2976149 \n",
    "pop[\"Kansas\"]=2913314 \n",
    "pop[\"New Mexico\"]=2096829 \n",
    "pop[\"Nebraska\"]=1934408 \n",
    "pop[\"Idaho\"]=1787065 \n",
    "pop[\"West Virginia\"]=1792147\n",
    "pop[\"Hawaii\"]=1415872 \n",
    "pop[\"New Hampshire\"]=1359711 \n",
    "pop[\"Maine\"]=1344212 \n",
    "pop[\"Montana\"]=1068778 \n",
    "pop[\"Rhode Island\"]=1059361 \n",
    "pop[\"Delaware\"]=973764 \n",
    "pop[\"South Dakota\"]=884659 \n",
    "pop[\"North Dakota\"]=762062 \n",
    "pop[\"Alaska\"]=731545 \n",
    "pop[\"Vermont\"]=623989 \n",
    "pop[\"Wyoming\"]=578759"
   ]
  },
  {
   "cell_type": "code",
   "execution_count": 4,
   "id": "artistic-ukraine",
   "metadata": {
    "execution": {
     "iopub.execute_input": "2021-06-02T22:43:46.912148Z",
     "iopub.status.busy": "2021-06-02T22:43:46.911448Z",
     "iopub.status.idle": "2021-06-02T22:43:46.967079Z",
     "shell.execute_reply": "2021-06-02T22:43:46.966506Z",
     "shell.execute_reply.started": "2021-06-02T22:39:37.230834Z"
    },
    "papermill": {
     "duration": 0.075757,
     "end_time": "2021-06-02T22:43:46.967219",
     "exception": false,
     "start_time": "2021-06-02T22:43:46.891462",
     "status": "completed"
    },
    "tags": []
   },
   "outputs": [],
   "source": [
    "# find initial number of infected and recovered individuals\n",
    "# also calculate average death rate\n",
    "import csv\n",
    "\n",
    "inf = {}\n",
    "rec = {}\n",
    "death_rate = {}\n",
    "for state in pop:\n",
    "    death_rate[state] = 0\n",
    "    \n",
    "with open(\"/kaggle/input/2021spring-cs145-ucla-covid19-prediction/train_trendency.csv\", \"r\") as csv_file:\n",
    "    reader = csv.reader(csv_file)\n",
    "\n",
    "    first_row = True\n",
    "    for row in reader:\n",
    "        if first_row:\n",
    "            first_row = False\n",
    "            continue\n",
    "        if row[3] != '':\n",
    "            inf[row[1]] = int(row[3])\n",
    "        val = row[5].split('.')\n",
    "        if row[5] != '':\n",
    "            val = row[5].split('.')\n",
    "            rec[row[1]] = int(val[0])\n",
    "            \n",
    "        # death rate calculation\n",
    "        state = row[1]\n",
    "        death_rate[state] = int(row[4]) / int(row[3])\n",
    "           \n",
    "# fix data for states that don't have recovered info\n",
    "avg = 0\n",
    "for state in rec:\n",
    "    proportion = rec[state] / inf[state]\n",
    "    proportion /= len(rec)\n",
    "    avg += proportion\n",
    "    \n",
    "for state in pop:\n",
    "    if not (state in rec):\n",
    "        rec[state] = round(inf[state] * avg)"
   ]
  },
  {
   "cell_type": "code",
   "execution_count": 5,
   "id": "legendary-indian",
   "metadata": {
    "execution": {
     "iopub.execute_input": "2021-06-02T22:43:46.987557Z",
     "iopub.status.busy": "2021-06-02T22:43:46.986583Z",
     "iopub.status.idle": "2021-06-02T22:43:47.674578Z",
     "shell.execute_reply": "2021-06-02T22:43:47.673853Z",
     "shell.execute_reply.started": "2021-06-02T22:25:18.433435Z"
    },
    "papermill": {
     "duration": 0.699137,
     "end_time": "2021-06-02T22:43:47.674725",
     "exception": false,
     "start_time": "2021-06-02T22:43:46.975588",
     "status": "completed"
    },
    "tags": []
   },
   "outputs": [],
   "source": [
    "# make calculations\n",
    "from scipy.integrate import odeint\n",
    "\n",
    "beta, gamma = 0.05, 1./5\n",
    "t = np.linspace(0,30,30)\n",
    "\n",
    "inputs = {}\n",
    "for state in pop:\n",
    "    susceptible = pop[state] - inf[state] - rec[state]\n",
    "    inputs[state] = susceptible, inf[state], rec[state]\n",
    "    \n",
    "calc_s = {}\n",
    "calc_i = {}\n",
    "calc_r = {}\n",
    "for state in pop:\n",
    "    ret = odeint(deriv, inputs[state], t, args=(pop[state], beta, gamma))\n",
    "    calc_s[state], calc_i[state], calc_r[state] = ret.T"
   ]
  },
  {
   "cell_type": "code",
   "execution_count": 6,
   "id": "german-guarantee",
   "metadata": {
    "collapsed": true,
    "execution": {
     "iopub.execute_input": "2021-06-02T22:43:47.699849Z",
     "iopub.status.busy": "2021-06-02T22:43:47.698794Z",
     "iopub.status.idle": "2021-06-02T22:43:47.722546Z",
     "shell.execute_reply": "2021-06-02T22:43:47.721807Z",
     "shell.execute_reply.started": "2021-06-02T22:41:57.120900Z"
    },
    "jupyter": {
     "outputs_hidden": true
    },
    "papermill": {
     "duration": 0.03954,
     "end_time": "2021-06-02T22:43:47.722697",
     "exception": false,
     "start_time": "2021-06-02T22:43:47.683157",
     "status": "completed"
    },
    "tags": []
   },
   "outputs": [],
   "source": [
    "# format output CSV\n",
    "out_csv = \"ID,Confirmed,Deaths\\n\"\n",
    "with open(\"/kaggle/input/2021spring-cs145-ucla-covid19-prediction/test.csv\", \"r\") as csv_file:\n",
    "    test = csv.reader(csv_file)\n",
    "    \n",
    "    first_row = True\n",
    "    i=0\n",
    "    for row in test:\n",
    "        if first_row:\n",
    "            first_row = False\n",
    "            continue\n",
    "            \n",
    "        state = row[1]\n",
    "        cumulative_infected = pop[state] - calc_s[state][i]\n",
    "        row[3] = cumulative_infected\n",
    "        \n",
    "        deaths = cumulative_infected * death_rate[state]\n",
    "        row[4] = deaths\n",
    "        \n",
    "        out_csv = out_csv + row[0] + \",\" + str(cumulative_infected) + \",\" + str(deaths) + \"\\n\"\n",
    "        if state == \"Wyoming\":\n",
    "            i = i+1"
   ]
  },
  {
   "cell_type": "code",
   "execution_count": 7,
   "id": "obvious-scope",
   "metadata": {
    "execution": {
     "iopub.execute_input": "2021-06-02T22:43:47.744984Z",
     "iopub.status.busy": "2021-06-02T22:43:47.743933Z",
     "iopub.status.idle": "2021-06-02T22:43:47.753342Z",
     "shell.execute_reply": "2021-06-02T22:43:47.753781Z",
     "shell.execute_reply.started": "2021-06-02T22:43:21.876814Z"
    },
    "papermill": {
     "duration": 0.022794,
     "end_time": "2021-06-02T22:43:47.753968",
     "exception": false,
     "start_time": "2021-06-02T22:43:47.731174",
     "status": "completed"
    },
    "tags": []
   },
   "outputs": [
    {
     "data": {
      "text/plain": [
       "61063"
      ]
     },
     "execution_count": 7,
     "metadata": {},
     "output_type": "execute_result"
    }
   ],
   "source": [
    "out_file = open(\"/kaggle/working/submission.csv\", \"w\")\n",
    "out_file.write(out_csv)"
   ]
  }
 ],
 "metadata": {
  "kernelspec": {
   "display_name": "Python 3",
   "language": "python",
   "name": "python3"
  },
  "language_info": {
   "codemirror_mode": {
    "name": "ipython",
    "version": 3
   },
   "file_extension": ".py",
   "mimetype": "text/x-python",
   "name": "python",
   "nbconvert_exporter": "python",
   "pygments_lexer": "ipython3",
   "version": "3.7.9"
  },
  "papermill": {
   "default_parameters": {},
   "duration": 7.927711,
   "end_time": "2021-06-02T22:43:48.372732",
   "environment_variables": {},
   "exception": null,
   "input_path": "__notebook__.ipynb",
   "output_path": "__notebook__.ipynb",
   "parameters": {},
   "start_time": "2021-06-02T22:43:40.445021",
   "version": "2.3.2"
  }
 },
 "nbformat": 4,
 "nbformat_minor": 5
}
